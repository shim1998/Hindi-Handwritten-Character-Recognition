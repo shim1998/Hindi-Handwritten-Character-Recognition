{
 "cells": [
  {
   "cell_type": "code",
   "execution_count": 1,
   "metadata": {},
   "outputs": [],
   "source": [
    "import numpy as np\n",
    "import pandas as pd\n",
    "import cv2\n",
    "from matplotlib import pyplot as plt\n",
    "import seaborn as sns\n",
    "from collections import Counter"
   ]
  },
  {
   "cell_type": "markdown",
   "metadata": {},
   "source": [
    "# LOADING THE DATASET"
   ]
  },
  {
   "cell_type": "code",
   "execution_count": 3,
   "metadata": {},
   "outputs": [],
   "source": [
    "data = pd.read_csv('train.csv')\n",
    "data = data.drop('0',axis=1)"
   ]
  },
  {
   "cell_type": "markdown",
   "metadata": {},
   "source": [
    "# EXPLORATORY ANALYSIS"
   ]
  },
  {
   "cell_type": "code",
   "execution_count": 4,
   "metadata": {},
   "outputs": [],
   "source": [
    "def convert(y):\n",
    "    for i in range(len(y)):\n",
    "        if type(y[i]) is int:\n",
    "            y[i]=str(y[i])\n",
    "    z = dict(Counter(list(y)))\n",
    "    labels = z.keys()\n",
    "    frequencies = [z[i] for i in labels]\n",
    "    plt.figure(figsize = (20, 10))\n",
    "    plt.bar(labels, frequencies)\n",
    "    plt.title('Frequency Distribution of Hindi Letters', fontsize = 20)\n",
    "    plt.show()\n",
    "    hindi_letters=['ka','kha','ga','gha','kna','cha','chha','ja','jha','yna','taa','thaa','daa','dhaa','adna','ta','tha','da','dha','na','pa','pha','ba','bha','ma','yaw','ra','la','va','sha','petchiryakha','patalosaw','ha','chhya','tra','gya','0','1','2','3','4','5','6','7','8','9']\n",
    "    for i in range(len(y)):\n",
    "        y[i]=hindi_letters.index(y[i])\n",
    "    print('Labels:\\n',y)\n",
    "    print('Shape of Labels:',y.shape)\n",
    "    return y"
   ]
  },
  {
   "cell_type": "code",
   "execution_count": 6,
   "metadata": {},
   "outputs": [
    {
     "name": "stdout",
     "output_type": "stream",
     "text": [
      "Number of images: 78199\n",
      "Number of pixels in each image: 784\n"
     ]
    }
   ],
   "source": [
    "images = data.iloc[:,1:].values\n",
    "print(\"Number of images:\", images.shape[0])\n",
    "print(\"Number of pixels in each image:\", images.shape[1])\n",
    "\n",
    "images = images.reshape(images.shape[0], 784,1)"
   ]
  },
  {
   "cell_type": "code",
   "execution_count": 8,
   "metadata": {},
   "outputs": [],
   "source": [
    "labels = data.iloc[:,:1].values.flatten()"
   ]
  },
  {
   "cell_type": "code",
   "execution_count": 9,
   "metadata": {},
   "outputs": [
    {
     "data": {
      "image/png": "[encoded data removed]",
      "text/plain": [
       "<Figure size 1440x720 with 1 Axes>"
      ]
     },
     "metadata": {
      "needs_background": "light"
     },
     "output_type": "display_data"
    },
    {
     "name": "stdout",
     "output_type": "stream",
     "text": [
      "Labels:\n",
      " [0 0 0 ... 45 45 45]\n",
      "Shape of Labels: (78199,)\n"
     ]
    }
   ],
   "source": [
    "labels=convert(labels)"
   ]
  },
  {
   "cell_type": "markdown",
   "metadata": {},
   "source": [
    "# SHUFFLING AND GENERATING DATASET"
   ]
  },
  {
   "cell_type": "code",
   "execution_count": 10,
   "metadata": {},
   "outputs": [],
   "source": [
    "def randomize(data,labels):\n",
    "    idx = np.arange(0, len(data))\n",
    "    np.random.shuffle(idx)\n",
    "    data_shuffle = [data[i] for i in idx]\n",
    "    labels_shuffle = [labels[i] for i in idx]\n",
    "    return np.asarray(data_shuffle), np.asarray(labels_shuffle)"
   ]
  },
  {
   "cell_type": "code",
   "execution_count": 11,
   "metadata": {},
   "outputs": [],
   "source": [
    "images = np.array(images) / 255.0\n",
    "labels = np.array(labels)"
   ]
  },
  {
   "cell_type": "code",
   "execution_count": 12,
   "metadata": {},
   "outputs": [],
   "source": [
    "learning_rate = 0.0005\n",
    "epochs = 50\n",
    "batch_size = 200\n",
    "display_step = 100"
   ]
  },
  {
   "cell_type": "code",
   "execution_count": 13,
   "metadata": {},
   "outputs": [],
   "source": [
    "n_input = 784\n",
    "n_classes = 46\n",
    "dropout = 0.5"
   ]
  },
  {
   "cell_type": "markdown",
   "metadata": {},
   "source": [
    "# Splitting the dataset into Training and Holdout(Test set)"
   ]
  },
  {
   "cell_type": "code",
   "execution_count": 15,
   "metadata": {},
   "outputs": [
    {
     "name": "stdout",
     "output_type": "stream",
     "text": [
      "x train shape (66469, 784, 1)\n",
      "y train shape (66469,)\n",
      "y test shape (11730, 784, 1)\n",
      "y test shape (11730,)\n"
     ]
    }
   ],
   "source": [
    "from sklearn.model_selection import train_test_split\n",
    "x_train, x_test, y_train, y_test = train_test_split(images, labels, test_size = 0.15, random_state = 101)\n",
    "print('x train shape', x_train.shape)\n",
    "print('y train shape', y_train.shape)\n",
    "print('y test shape', x_test.shape)\n",
    "print('y test shape', y_test.shape)"
   ]
  },
  {
   "cell_type": "markdown",
   "metadata": {},
   "source": [
    "# CALLING KERAS AND TRAINING THE MODEL"
   ]
  },
  {
   "cell_type": "code",
   "execution_count": 16,
   "metadata": {},
   "outputs": [
    {
     "name": "stderr",
     "output_type": "stream",
     "text": [
      "Using TensorFlow backend.\n"
     ]
    }
   ],
   "source": [
    "from keras.models import Sequential\n",
    "from keras import optimizers\n",
    "from keras.layers import Convolution2D, MaxPooling2D, Dropout, Flatten, Dense, Reshape, LSTM\n",
    "from keras import backend as K\n",
    "from keras.constraints import maxnorm"
   ]
  },
  {
   "cell_type": "code",
   "execution_count": 17,
   "metadata": {},
   "outputs": [
    {
     "name": "stdout",
     "output_type": "stream",
     "text": [
      "WARNING:tensorflow:From /home/shim/.local/lib/python3.7/site-packages/tensorflow/python/framework/op_def_library.py:263: colocate_with (from tensorflow.python.framework.ops) is deprecated and will be removed in a future version.\n",
      "Instructions for updating:\n",
      "Colocations handled automatically by placer.\n",
      "WARNING:tensorflow:From /home/shim/anaconda3/lib/python3.7/site-packages/keras/backend/tensorflow_backend.py:3445: calling dropout (from tensorflow.python.ops.nn_ops) with keep_prob is deprecated and will be removed in a future version.\n",
      "Instructions for updating:\n",
      "Please use `rate` instead of `keep_prob`. Rate should be set to `rate = 1 - keep_prob`.\n"
     ]
    }
   ],
   "source": [
    "from keras.models import Sequential\n",
    "from keras import optimizers\n",
    "from keras.layers import Convolution2D, MaxPooling2D, Dropout, Flatten, Dense, Reshape, LSTM\n",
    "from keras import backend as K\n",
    "from keras.constraints import maxnorm\n",
    "def resh(ipar):\n",
    "    opar = []\n",
    "    for image in ipar:\n",
    "        opar.append(image.reshape(-1))\n",
    "    return np.asarray(opar)\n",
    "\n",
    "from keras.utils import np_utils\n",
    "\n",
    "train_images = x_train.astype('float32')\n",
    "test_images = x_test.astype('float32')\n",
    "\n",
    "train_images = resh(train_images)\n",
    "test_images = resh(test_images)\n",
    "\n",
    "\n",
    "train_labels = np_utils.to_categorical(y_train, 46)\n",
    "test_labels = np_utils.to_categorical(y_test, 46)\n",
    "\n",
    "K.set_learning_phase(1)\n",
    "\n",
    "model = Sequential()\n",
    "\n",
    "model.add(Reshape((28,28,1), input_shape=(784,)))\n",
    "\n",
    "model.add(Convolution2D(32,(5,5), input_shape=(28,28,1),\n",
    "                             activation='relu',padding='same',\n",
    "                            kernel_constraint=maxnorm(3)))\n",
    "model.add(MaxPooling2D(pool_size=(2,2),strides=(2,2)))\n",
    "model.add(Convolution2D(32, (5,5),activation='relu',strides=(1,1)))\n",
    "model.add(MaxPooling2D(pool_size=(2,2),strides=(2,2)))\n",
    "model.add(Flatten())\n",
    "model.add(Dense(1024, activation='relu', kernel_constraint=maxnorm(3)))\n",
    "#model.add(Dense(512, activation='relu', kernel_constraint=maxnorm(3)))\n",
    "\n",
    "model.add(Dropout(0.5))\n",
    "\n",
    "model.add(Dense(46, activation='softmax'))\n",
    "\n",
    "#opt = optimizers.Adam(lr=0.001, beta_1=0.9, beta_2=0.999, epsilon=1e-8)\n",
    "#opt = optimizers.Adadelta()\n",
    "opt = optimizers.Adamax(lr=0.0005, beta_1=0.75, beta_2=0.999, epsilon=None, decay=0.0)\n",
    "model.compile(loss='categorical_crossentropy', optimizer=opt, metrics=['accuracy'])"
   ]
  },
  {
   "cell_type": "code",
   "execution_count": 18,
   "metadata": {},
   "outputs": [
    {
     "name": "stdout",
     "output_type": "stream",
     "text": [
      "_________________________________________________________________\n",
      "Layer (type)                 Output Shape              Param #   \n",
      "=================================================================\n",
      "reshape_1 (Reshape)          (None, 28, 28, 1)         0         \n",
      "_________________________________________________________________\n",
      "conv2d_1 (Conv2D)            (None, 28, 28, 32)        832       \n",
      "_________________________________________________________________\n",
      "max_pooling2d_1 (MaxPooling2 (None, 14, 14, 32)        0         \n",
      "_________________________________________________________________\n",
      "conv2d_2 (Conv2D)            (None, 10, 10, 32)        25632     \n",
      "_________________________________________________________________\n",
      "max_pooling2d_2 (MaxPooling2 (None, 5, 5, 32)          0         \n",
      "_________________________________________________________________\n",
      "flatten_1 (Flatten)          (None, 800)               0         \n",
      "_________________________________________________________________\n",
      "dense_1 (Dense)              (None, 1024)              820224    \n",
      "_________________________________________________________________\n",
      "dropout_1 (Dropout)          (None, 1024)              0         \n",
      "_________________________________________________________________\n",
      "dense_2 (Dense)              (None, 46)                47150     \n",
      "=================================================================\n",
      "Total params: 893,838\n",
      "Trainable params: 893,838\n",
      "Non-trainable params: 0\n",
      "_________________________________________________________________\n",
      "None\n",
      "WARNING:tensorflow:From /home/shim/.local/lib/python3.7/site-packages/tensorflow/python/ops/math_ops.py:3066: to_int32 (from tensorflow.python.ops.math_ops) is deprecated and will be removed in a future version.\n",
      "Instructions for updating:\n",
      "Use tf.cast instead.\n",
      "Train on 66469 samples, validate on 11730 samples\n",
      "Epoch 1/50\n",
      "66469/66469 [==============================] - 74s 1ms/step - loss: 1.7534 - acc: 0.5359 - val_loss: 0.8968 - val_acc: 0.7454\n",
      "Epoch 2/50\n",
      "66469/66469 [==============================] - 70s 1ms/step - loss: 0.6618 - acc: 0.8080 - val_loss: 0.5039 - val_acc: 0.8539\n",
      "Epoch 3/50\n",
      "66469/66469 [==============================] - 68s 1ms/step - loss: 0.4149 - acc: 0.8780 - val_loss: 0.3668 - val_acc: 0.8921\n",
      "Epoch 4/50\n",
      "66469/66469 [==============================] - 72s 1ms/step - loss: 0.3050 - acc: 0.9104 - val_loss: 0.2835 - val_acc: 0.9169\n",
      "Epoch 5/50\n",
      "66469/66469 [==============================] - 69s 1ms/step - loss: 0.2411 - acc: 0.9287 - val_loss: 0.2479 - val_acc: 0.9257\n",
      "Epoch 6/50\n",
      "66469/66469 [==============================] - 65s 976us/step - loss: 0.2010 - acc: 0.9399 - val_loss: 0.2184 - val_acc: 0.9359\n",
      "Epoch 7/50\n",
      "66469/66469 [==============================] - 60s 906us/step - loss: 0.1721 - acc: 0.9479 - val_loss: 0.1863 - val_acc: 0.9424\n",
      "Epoch 8/50\n",
      "66469/66469 [==============================] - 76s 1ms/step - loss: 0.1480 - acc: 0.9550 - val_loss: 0.1706 - val_acc: 0.9475\n",
      "Epoch 9/50\n",
      "66469/66469 [==============================] - 68s 1ms/step - loss: 0.1310 - acc: 0.9606 - val_loss: 0.1621 - val_acc: 0.9506\n",
      "Epoch 10/50\n",
      "66469/66469 [==============================] - 64s 960us/step - loss: 0.1148 - acc: 0.9652 - val_loss: 0.1522 - val_acc: 0.9546\n",
      "Epoch 11/50\n",
      "66469/66469 [==============================] - 71s 1ms/step - loss: 0.1040 - acc: 0.9686 - val_loss: 0.1380 - val_acc: 0.9578\n",
      "Epoch 12/50\n",
      "66469/66469 [==============================] - 67s 1ms/step - loss: 0.0936 - acc: 0.9719 - val_loss: 0.1367 - val_acc: 0.9576\n",
      "Epoch 13/50\n",
      "66469/66469 [==============================] - 69s 1ms/step - loss: 0.0864 - acc: 0.9733 - val_loss: 0.1272 - val_acc: 0.9621\n",
      "Epoch 14/50\n",
      "66469/66469 [==============================] - 68s 1ms/step - loss: 0.0773 - acc: 0.9754 - val_loss: 0.1238 - val_acc: 0.9613\n",
      "Epoch 15/50\n",
      "66469/66469 [==============================] - 66s 991us/step - loss: 0.0718 - acc: 0.9779 - val_loss: 0.1196 - val_acc: 0.9641\n",
      "Epoch 16/50\n",
      "66469/66469 [==============================] - 66s 994us/step - loss: 0.0659 - acc: 0.9794 - val_loss: 0.1163 - val_acc: 0.9660\n",
      "Epoch 17/50\n",
      "66469/66469 [==============================] - 64s 958us/step - loss: 0.0614 - acc: 0.9808 - val_loss: 0.1108 - val_acc: 0.9652\n",
      "Epoch 18/50\n",
      "66469/66469 [==============================] - 64s 970us/step - loss: 0.0553 - acc: 0.9832 - val_loss: 0.1151 - val_acc: 0.9643\n",
      "Epoch 19/50\n",
      "66469/66469 [==============================] - 67s 1ms/step - loss: 0.0527 - acc: 0.9835 - val_loss: 0.1050 - val_acc: 0.9683\n",
      "Epoch 20/50\n",
      "66469/66469 [==============================] - 66s 995us/step - loss: 0.0502 - acc: 0.9846 - val_loss: 0.1067 - val_acc: 0.9688\n",
      "Epoch 21/50\n",
      "66469/66469 [==============================] - 64s 960us/step - loss: 0.0451 - acc: 0.9859 - val_loss: 0.1081 - val_acc: 0.9679\n",
      "Epoch 22/50\n",
      "66469/66469 [==============================] - 65s 985us/step - loss: 0.0422 - acc: 0.9868 - val_loss: 0.0989 - val_acc: 0.9705\n",
      "Epoch 23/50\n",
      "66469/66469 [==============================] - 67s 1ms/step - loss: 0.0405 - acc: 0.9871 - val_loss: 0.1055 - val_acc: 0.9708\n",
      "Epoch 24/50\n",
      "66469/66469 [==============================] - 70s 1ms/step - loss: 0.0372 - acc: 0.9880 - val_loss: 0.1009 - val_acc: 0.9697\n",
      "Epoch 25/50\n",
      "66469/66469 [==============================] - 72s 1ms/step - loss: 0.0332 - acc: 0.9899 - val_loss: 0.1063 - val_acc: 0.9697\n",
      "Epoch 26/50\n",
      "66469/66469 [==============================] - 66s 999us/step - loss: 0.0319 - acc: 0.9899 - val_loss: 0.1014 - val_acc: 0.9693\n",
      "Epoch 27/50\n",
      "66469/66469 [==============================] - 68s 1ms/step - loss: 0.0320 - acc: 0.9901 - val_loss: 0.0976 - val_acc: 0.9723\n",
      "Epoch 28/50\n",
      "66469/66469 [==============================] - 68s 1ms/step - loss: 0.0291 - acc: 0.9907 - val_loss: 0.0921 - val_acc: 0.9713\n",
      "Epoch 29/50\n",
      "66469/66469 [==============================] - 74s 1ms/step - loss: 0.0272 - acc: 0.9916 - val_loss: 0.0998 - val_acc: 0.9716\n",
      "Epoch 30/50\n",
      "66469/66469 [==============================] - 69s 1ms/step - loss: 0.0252 - acc: 0.9920 - val_loss: 0.0933 - val_acc: 0.9744\n",
      "Epoch 31/50\n",
      "66469/66469 [==============================] - 64s 957us/step - loss: 0.0262 - acc: 0.9913 - val_loss: 0.0961 - val_acc: 0.9739\n",
      "Epoch 32/50\n",
      "66469/66469 [==============================] - 66s 992us/step - loss: 0.0231 - acc: 0.9929 - val_loss: 0.0960 - val_acc: 0.9739\n",
      "Epoch 33/50\n",
      "66469/66469 [==============================] - 64s 968us/step - loss: 0.0231 - acc: 0.9927 - val_loss: 0.1045 - val_acc: 0.9710\n",
      "Epoch 34/50\n",
      "66469/66469 [==============================] - 66s 991us/step - loss: 0.0219 - acc: 0.9933 - val_loss: 0.0981 - val_acc: 0.9731\n",
      "Epoch 35/50\n",
      "66469/66469 [==============================] - 75s 1ms/step - loss: 0.0203 - acc: 0.9939 - val_loss: 0.1013 - val_acc: 0.9740\n",
      "Epoch 36/50\n",
      "66469/66469 [==============================] - 70s 1ms/step - loss: 0.0182 - acc: 0.9945 - val_loss: 0.0983 - val_acc: 0.9736\n",
      "Epoch 37/50\n",
      "66469/66469 [==============================] - 68s 1ms/step - loss: 0.0181 - acc: 0.9942 - val_loss: 0.0887 - val_acc: 0.9762\n",
      "Epoch 38/50\n",
      "66469/66469 [==============================] - 72s 1ms/step - loss: 0.0172 - acc: 0.9948 - val_loss: 0.0918 - val_acc: 0.9752\n",
      "Epoch 39/50\n",
      "66469/66469 [==============================] - 71s 1ms/step - loss: 0.0178 - acc: 0.9942 - val_loss: 0.0866 - val_acc: 0.9766\n",
      "Epoch 40/50\n",
      "66469/66469 [==============================] - 65s 979us/step - loss: 0.0169 - acc: 0.9949 - val_loss: 0.0898 - val_acc: 0.9757\n",
      "Epoch 41/50\n",
      "66469/66469 [==============================] - 72s 1ms/step - loss: 0.0150 - acc: 0.9954 - val_loss: 0.0978 - val_acc: 0.9729\n",
      "Epoch 42/50\n",
      "66469/66469 [==============================] - 69s 1ms/step - loss: 0.0150 - acc: 0.9953 - val_loss: 0.0896 - val_acc: 0.9776\n",
      "Epoch 43/50\n",
      "66469/66469 [==============================] - 68s 1ms/step - loss: 0.0146 - acc: 0.9952 - val_loss: 0.0931 - val_acc: 0.9736\n",
      "Epoch 44/50\n",
      "66469/66469 [==============================] - 72s 1ms/step - loss: 0.0139 - acc: 0.9959 - val_loss: 0.0917 - val_acc: 0.9751\n",
      "Epoch 45/50\n",
      "66469/66469 [==============================] - 72s 1ms/step - loss: 0.0135 - acc: 0.9957 - val_loss: 0.0925 - val_acc: 0.9754\n",
      "Epoch 46/50\n",
      "66469/66469 [==============================] - 68s 1ms/step - loss: 0.0130 - acc: 0.9958 - val_loss: 0.0924 - val_acc: 0.9754\n"
     ]
    },
    {
     "name": "stdout",
     "output_type": "stream",
     "text": [
      "Epoch 47/50\n",
      "66469/66469 [==============================] - 66s 992us/step - loss: 0.0123 - acc: 0.9959 - val_loss: 0.0915 - val_acc: 0.9777\n",
      "Epoch 48/50\n",
      "66469/66469 [==============================] - 73s 1ms/step - loss: 0.0127 - acc: 0.9960 - val_loss: 0.1039 - val_acc: 0.9749\n",
      "Epoch 49/50\n",
      "66469/66469 [==============================] - 70s 1ms/step - loss: 0.0118 - acc: 0.9966 - val_loss: 0.0942 - val_acc: 0.9740\n",
      "Epoch 50/50\n",
      "66469/66469 [==============================] - 67s 1ms/step - loss: 0.0118 - acc: 0.9961 - val_loss: 0.0910 - val_acc: 0.9772\n"
     ]
    }
   ],
   "source": [
    "print(model.summary())\n",
    "history = model.fit(train_images,train_labels,validation_data=(test_images, test_labels), batch_size=128, epochs=50)"
   ]
  },
  {
   "cell_type": "markdown",
   "metadata": {},
   "source": [
    "# CHECKING ACCURACY OF OUR MODEL"
   ]
  },
  {
   "cell_type": "code",
   "execution_count": 19,
   "metadata": {},
   "outputs": [
    {
     "name": "stdout",
     "output_type": "stream",
     "text": [
      "Accuracy: 97.68%\n"
     ]
    }
   ],
   "source": [
    "#evaluating model on test data. will take time\n",
    "scores = model.evaluate(test_images,test_labels, verbose = 0)\n",
    "print(\"Accuracy: %.2f%%\"%(scores[1]*100))"
   ]
  },
  {
   "cell_type": "markdown",
   "metadata": {},
   "source": [
    "# SAVING AND EXPORTING MODEL"
   ]
  },
  {
   "cell_type": "code",
   "execution_count": 20,
   "metadata": {},
   "outputs": [],
   "source": [
    "from keras.models import load_model\n",
    "from keras.models import model_from_json\n",
    "\n",
    "model_json = model.to_json()\n",
    "with open(\"model.json\", \"w\") as json_file:\n",
    "    json_file.write(model_json)\n",
    "#saves the model info as json file\n",
    "    \n",
    "model.save_weights(\"model.h5\")\n",
    "# Creates a HDF5 file 'model.h5'"
   ]
  },
  {
   "cell_type": "markdown",
   "metadata": {},
   "source": [
    "# TESTING ON AN IMAGE"
   ]
  },
  {
   "cell_type": "code",
   "execution_count": 21,
   "metadata": {},
   "outputs": [
    {
     "name": "stdout",
     "output_type": "stream",
     "text": [
      "prediction: sha\n"
     ]
    },
    {
     "data": {
      "image/png": "[encoded data removed]",
      "text/plain": [
       "<Figure size 432x288 with 1 Axes>"
      ]
     },
     "metadata": {
      "needs_background": "light"
     },
     "output_type": "display_data"
    }
   ],
   "source": [
    "hindi_letters=['ka','kha','ga','gha','kna','cha','chha','ja','jha','yna','taa','thaa','daa','dhaa','adna','ta','tha','da','dha','na','pa','pha','ba','bha','ma','yaw','ra','la','va','sha','petchiryakha','patalosaw','ha','chhya','tra','gya','0','1','2','3','4','5','6','7','8','9']\n",
    "m = cv2.imread('example.png',0)\n",
    "plt.imshow(m)\n",
    "plt.show\n",
    "print('prediction: '+str(hindi_letters[int(model.predict_classes(m.reshape(1,784)))]))"
   ]
  },
  {
   "cell_type": "markdown",
   "metadata": {},
   "source": [
    "# TESTING ACCURACY ON TEST DATASET"
   ]
  },
  {
   "cell_type": "code",
   "execution_count": 26,
   "metadata": {},
   "outputs": [],
   "source": [
    "test=pd.read_csv('test.csv')\n",
    "test = test.drop('0',axis=1)"
   ]
  },
  {
   "cell_type": "code",
   "execution_count": 28,
   "metadata": {},
   "outputs": [
    {
     "name": "stdout",
     "output_type": "stream",
     "text": [
      "Number of images: 13799\n",
      "Number of pixels in each image: 784\n"
     ]
    }
   ],
   "source": [
    "test_images = test.iloc[:,1:].values\n",
    "print(\"Number of images:\", test_images.shape[0])\n",
    "print(\"Number of pixels in each image:\", test_images.shape[1])\n",
    "\n",
    "test_images = test_images.reshape(test_images.shape[0], 784,1)"
   ]
  },
  {
   "cell_type": "code",
   "execution_count": 31,
   "metadata": {},
   "outputs": [
    {
     "data": {
      "text/plain": [
       "13799"
      ]
     },
     "execution_count": 31,
     "metadata": {},
     "output_type": "execute_result"
    }
   ],
   "source": [
    "labels = test.iloc[:,:1].values.flatten()\n",
    "labels.size"
   ]
  },
  {
   "cell_type": "code",
   "execution_count": 45,
   "metadata": {},
   "outputs": [
    {
     "name": "stdout",
     "output_type": "stream",
     "text": [
      "Accuracy is:  96.10841365316327\n"
     ]
    }
   ],
   "source": [
    "hindi_letters=['ka','kha','ga','gha','kna','cha','chha','ja','jha','yna','taa','thaa','daa','dhaa','adna','ta','tha','da','dha','na','pa','pha','ba','bha','ma','yaw','ra','la','va','sha','petchiryakha','patalosaw','ha','chhya','tra','gya','0','1','2','3','4','5','6','7','8','9']\n",
    "correct=0\n",
    "for i in range(0,labels.size):\n",
    "    ans=hindi_letters[int(model.predict_classes(test_images[i].reshape(1,784)))]\n",
    "    if str(labels[i])==ans:\n",
    "        correct+=1\n",
    "print(\"Test Accuracy is: \",(correct/labels.size)*100)"
   ]
  }
 ],
 "metadata": {
  "kernelspec": {
   "display_name": "Python 3",
   "language": "python",
   "name": "python3"
  },
  "language_info": {
   "codemirror_mode": {
    "name": "ipython",
    "version": 3
   },
   "file_extension": ".py",
   "mimetype": "text/x-python",
   "name": "python",
   "nbconvert_exporter": "python",
   "pygments_lexer": "ipython3",
   "version": "3.7.3"
  }
 },
 "nbformat": 4,
 "nbformat_minor": 2
}
